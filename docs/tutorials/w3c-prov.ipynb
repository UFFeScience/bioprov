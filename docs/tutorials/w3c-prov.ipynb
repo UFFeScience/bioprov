{
 "cells": [
  {
   "cell_type": "markdown",
   "metadata": {},
   "source": [
    "## Welcome to the BioProv tutorials!\n",
    "\n",
    "### Tutorial index\n",
    "* <a href=\"./introduction.ipynb\">Introduction to BioProv</a>\n",
    "* <a href=\"./w3c-prov.ipynb\">W3C-PROV projects</a>\n",
    "\n",
    "## W3C-PROV workflows\n",
    "\n",
    "In the last tutorial we learned about how to start a **Project** in BioProv, along with the main classes of the library. In this tutorial, we are going to look at some additional BioProv functions to facilitate our work. We are also going to produce a W3C-PROV document describing our workflow. Let's dive into it.\n",
    "\n",
    "### Importing data easily\n",
    "\n",
    "You might be thinking that creating BioProv Projects and Samples one by one is quite repetitive. To facilitate this, it is possible to import data into BioProv using comma- or tab-delimited files, using the BioProv `read_csv()` function."
   ]
  },
  {
   "cell_type": "code",
   "execution_count": 1,
   "metadata": {},
   "outputs": [
    {
     "data": {
      "text/plain": [
       "Project 'hopeful-deer' with 2 samples."
      ]
     },
     "execution_count": 1,
     "metadata": {},
     "output_type": "execute_result"
    }
   ],
   "source": [
    "import bioprov as bp\n",
    "from bioprov.data import picocyano_dataset\n",
    "\n",
    "proj = bp.read_csv(picocyano_dataset); proj"
   ]
  },
  {
   "cell_type": "markdown",
   "metadata": {},
   "source": [
    "The `picocyano_dataset` variable is simply a path pointing to a comma-delimited file that comes with BioProv:"
   ]
  },
  {
   "cell_type": "code",
   "execution_count": 2,
   "metadata": {},
   "outputs": [
    {
     "data": {
      "text/plain": [
       "PosixPath('/Users/vini/anaconda3/envs/bioprov/lib/python3.7/site-packages/bioprov/data/datasets/picocyano.csv')"
      ]
     },
     "execution_count": 2,
     "metadata": {},
     "output_type": "execute_result"
    }
   ],
   "source": [
    "picocyano_dataset"
   ]
  },
  {
   "cell_type": "code",
   "execution_count": 3,
   "metadata": {},
   "outputs": [
    {
     "name": "stdout",
     "output_type": "stream",
     "text": [
      "sample-id,assembly,taxon\n",
      "GCF_000010065.1_ASM1006v1,bioprov/data/genomes/GCF_000010065.1_ASM1006v1_genomic.fna,Synechococcus elongatus PCC 6301\n",
      "GCF_000007925.1_ASM792v1,bioprov/data/genomes/GCF_000007925.1_ASM792v1_genomic.fna,Prochlorococcus marinus CCMP1375\n"
     ]
    }
   ],
   "source": [
    "# Take a peek at the file\n",
    "!cat ../../bioprov/data/datasets/picocyano.csv"
   ]
  },
  {
   "cell_type": "markdown",
   "metadata": {},
   "source": [
    "You can notice that this is a simple comma-delimited file. If you have a different delimiter, simply pass it to the `sep` argument of `read_csv()`, e.g. if you have a tab-delimited file, type `read_csv(path, sep=\"\\t\")`.\n",
    "\n",
    "BioProv uses Pandas to process delimited files. Because of this, you can also import data from Pandas DataFrames using the `from_df()` function. This is quite handy if you want to process your file for a bit before importing it with BioProv. "
   ]
  },
  {
   "cell_type": "code",
   "execution_count": 4,
   "metadata": {},
   "outputs": [
    {
     "data": {
      "text/plain": [
       "Project 'coral-mackerel' with 2 samples."
      ]
     },
     "execution_count": 4,
     "metadata": {},
     "output_type": "execute_result"
    }
   ],
   "source": [
    "import pandas as pd\n",
    "\n",
    "df = pd.read_csv(picocyano_dataset)\n",
    "\n",
    "df['assembly'] = \"../../\" + df[\"assembly\"]\n",
    "... # do your processing here\n",
    "\n",
    "proj = bp.from_df(df, file_cols=\"assembly\"); proj"
   ]
  },
  {
   "cell_type": "markdown",
   "metadata": {},
   "source": [
    "The `from_df()` function has some useful arguments to make sure our data is read correctly. \n",
    "\n",
    "The first is the `index_col`, which is the column used to read the Sample IDs. This column must contain unique identifiers, it can be passed as an integer (position of the column) or as a string (name of the column). However, we don't have to worry about that because it reads the first column as index_col by default.\n",
    "\n",
    "The second useful argument is `file_cols`, which is used to specify the columns which contain the path to files in our data. The second column of our dataset, the `\"assembly\"` column, contains the path to the genome assembly of each sample. This will create an instance of **File** for each **Sample**. The **File** will be tagged with the column name. The remaining columns will be added as attributes to the **Sample**."
   ]
  },
  {
   "cell_type": "code",
   "execution_count": 7,
   "metadata": {},
   "outputs": [
    {
     "name": "stdout",
     "output_type": "stream",
     "text": [
      "{'GCF_000010065.1_ASM1006v1': Sample GCF_000010065.1_ASM1006v1 with 1 file(s)., 'GCF_000007925.1_ASM792v1': Sample GCF_000007925.1_ASM792v1 with 1 file(s).} \n",
      "\n",
      "{'assembly': /Users/vini/Bio/BioProv/docs/tutorials/../../bioprov/data/genomes/GCF_000010065.1_ASM1006v1_genomic.fna} \n",
      "\n",
      "{'assembly': '../../bioprov/data/genomes/GCF_000010065.1_ASM1006v1_genomic.fna', 'taxon': 'Synechococcus elongatus PCC 6301'}\n"
     ]
    }
   ],
   "source": [
    "proj = bp.from_df(df, file_cols=[\"assembly\",])\n",
    "\n",
    "# Creates files tagged with the column name\n",
    "print(proj.samples, \"\\n\")\n",
    "print(proj['GCF_000010065.1_ASM1006v1'].files, \"\\n\")\n",
    "print(proj['GCF_000010065.1_ASM1006v1'].attributes)"
   ]
  },
  {
   "cell_type": "markdown",
   "metadata": {},
   "source": [
    "The `read_csv()` function also accepts these arguments and passes them to `from_df()`. So we can just do:"
   ]
  },
  {
   "cell_type": "code",
   "execution_count": 8,
   "metadata": {},
   "outputs": [
    {
     "data": {
      "text/plain": [
       "Project 'W3C-PROV-tutorial.json' with 2 samples."
      ]
     },
     "execution_count": 8,
     "metadata": {},
     "output_type": "execute_result"
    }
   ],
   "source": [
    "proj = bp.read_csv(picocyano_dataset, file_cols=[\"assembly\",])\n",
    "\n",
    "# Because of the path of the tutorials, we are going to have to process the file,\n",
    "# so we use from_df()\n",
    "\n",
    "df = pd.read_csv(picocyano_dataset)\n",
    "df['assembly'] = \"../../\" + df[\"assembly\"]\n",
    "proj = bp.from_df(df, file_cols=\"assembly\", tag=\"W3C-PROV-tutorial.json\"); proj"
   ]
  },
  {
   "cell_type": "markdown",
   "metadata": {},
   "source": [
    "### SeqFiles\n",
    "The goal of BioProv is to make the provenance of biological data structures more accessible. To do this, there is the class **SeqFile**. An instance of **SeqFile** is a customization of **File** which also holds information about sequences, so it can load files such as FASTA and extract information using the BioPython modules `Bio.SeqIO` and `Bio.AlignIO`. When importing data, we can specify which columns have sequence files by using the `sequencefile_cols` argument. The `\"assembly\"` column of our dataset contains FASTA files, so we can load it as such, and use the `import_data=True` argument to extract information from the files."
   ]
  },
  {
   "cell_type": "code",
   "execution_count": 21,
   "metadata": {},
   "outputs": [
    {
     "data": {
      "text/plain": [
       "Project 'W3C-PROV-tutorial.json' with 2 samples."
      ]
     },
     "execution_count": 21,
     "metadata": {},
     "output_type": "execute_result"
    }
   ],
   "source": [
    "df = pd.read_csv(picocyano_dataset)\n",
    "df['assembly'] = \"../../\" + df[\"assembly\"]\n",
    "proj = bp.from_df(df, sequencefile_cols=\"assembly\", tag=\"W3C-PROV-tutorial.json\", import_data=True); proj"
   ]
  },
  {
   "cell_type": "markdown",
   "metadata": {},
   "source": [
    "**SeqFiles** possess attributes which are specific to biological sequences, such as number of sequences, number of basepairs, GC content, and N50. They are attributes of the **Sample** instance and also implemented in the **SeqStats** data class, which is also an attribute of the **SeqFile**."
   ]
  },
  {
   "cell_type": "code",
   "execution_count": 22,
   "metadata": {},
   "outputs": [
    {
     "data": {
      "text/plain": [
       "{'path': PosixPath('/Users/vini/Bio/BioProv/docs/tutorials/../../bioprov/data/genomes/GCF_000010065.1_ASM1006v1_genomic.fna'),\n",
       " 'name': 'GCF_000010065.1_ASM1006v1_genomic',\n",
       " 'basename': 'GCF_000010065.1_ASM1006v1_genomic.fna',\n",
       " 'directory': PosixPath('/Users/vini/Bio/BioProv/docs/tutorials/../../bioprov/data/genomes'),\n",
       " 'extension': '.fna',\n",
       " 'tag': 'assembly',\n",
       " 'attributes': {},\n",
       " '_exists': True,\n",
       " '_size': '2.6 MB',\n",
       " 'raw_size': 2730026,\n",
       " '_sha1': 'f8658496b343257690f828ec14226644dc9e9ca2',\n",
       " '_entity': None,\n",
       " 'format': 'fasta',\n",
       " 'records': {'NC_006576.1': SeqRecord(seq=Seq('ATTTAAATCACTGGCATCAGCATTCGCAATATCATTGAGGTCAACAATACTTTC...GGC'), id='NC_006576.1', name='NC_006576.1', description='NC_006576.1 Synechococcus elongatus PCC 6301 DNA, complete genome', dbxrefs=[])},\n",
       " '_generator': <Bio.SeqIO.FastaIO.FastaIterator at 0x7ff342d6ecd0>,\n",
       " '_seqstats': SeqStats(number_seqs=1, total_bps=2696255, mean_bp=2696255.0, min_bp=2696255, max_bp=2696255, N50=2696255, GC=0.55484),\n",
       " '_parser': 'seq',\n",
       " 'number_seqs': 1,\n",
       " 'total_bps': 2696255,\n",
       " 'mean_bp': 2696255.0,\n",
       " 'min_bp': 2696255,\n",
       " 'max_bp': 2696255,\n",
       " 'N50': 2696255,\n",
       " 'GC': 0.55484}"
      ]
     },
     "execution_count": 22,
     "metadata": {},
     "output_type": "execute_result"
    }
   ],
   "source": [
    "proj[\"GCF_000010065.1_ASM1006v1\"].files['assembly'].__dict__"
   ]
  },
  {
   "cell_type": "code",
   "execution_count": 23,
   "metadata": {},
   "outputs": [
    {
     "data": {
      "text/plain": [
       "SeqStats(number_seqs=1, total_bps=2696255, mean_bp=2696255.0, min_bp=2696255, max_bp=2696255, N50=2696255, GC=0.55484)"
      ]
     },
     "execution_count": 23,
     "metadata": {},
     "output_type": "execute_result"
    }
   ],
   "source": [
    "proj[\"GCF_000010065.1_ASM1006v1\"].files['assembly'].seqstats"
   ]
  },
  {
   "cell_type": "markdown",
   "metadata": {},
   "source": [
    "### PresetPrograms\n",
    "\n",
    "Now that we've seen an easier way to import data into BioProv, let us see an easier way to run **Programs**. BioProv has the class **PresetProgram**, which is an easier way to create Programs which will be run a lot. There are functions to call PresetPrograms in the `bioprov.programs` module. For this example, we are going to run the program [Prodigal](https://github.com/hyattpd/Prodigal) using a PresetProgram. Prodigal is a gene-calling software which predicts coding sequences from prokaryotic genomes."
   ]
  },
  {
   "cell_type": "code",
   "execution_count": 24,
   "metadata": {},
   "outputs": [
    {
     "name": "stdout",
     "output_type": "stream",
     "text": [
      "Running program 'prodigal' for sample GCF_000010065.1_ASM1006v1.\n",
      "Command is:\n",
      "/Users/vini/anaconda3/envs/bioprov/bin/prodigal \\ \n",
      "\t-i /Users/vini/Bio/BioProv/docs/tutorials/../../bioprov/data/genomes/GCF_000010065.1_ASM1006v1_genomic.fna \\ \n",
      "\t-a /Users/vini/Bio/BioProv/docs/tutorials/../../bioprov/data/genomes/GCF_000010065.1_ASM1006v1_genomic_proteins.faa \\ \n",
      "\t-d /Users/vini/Bio/BioProv/docs/tutorials/../../bioprov/data/genomes/GCF_000010065.1_ASM1006v1_genomic_genes.fna \\ \n",
      "\t-s /Users/vini/Bio/BioProv/docs/tutorials/../../bioprov/data/genomes/GCF_000010065.1_ASM1006v1_genomic_scores.cds \n",
      "Running program 'prodigal' for sample GCF_000007925.1_ASM792v1.\n",
      "Command is:\n",
      "/Users/vini/anaconda3/envs/bioprov/bin/prodigal \\ \n",
      "\t-i /Users/vini/Bio/BioProv/docs/tutorials/../../bioprov/data/genomes/GCF_000007925.1_ASM792v1_genomic.fna \\ \n",
      "\t-a /Users/vini/Bio/BioProv/docs/tutorials/../../bioprov/data/genomes/GCF_000007925.1_ASM792v1_genomic_proteins.faa \\ \n",
      "\t-d /Users/vini/Bio/BioProv/docs/tutorials/../../bioprov/data/genomes/GCF_000007925.1_ASM792v1_genomic_genes.fna \\ \n",
      "\t-s /Users/vini/Bio/BioProv/docs/tutorials/../../bioprov/data/genomes/GCF_000007925.1_ASM792v1_genomic_scores.cds \n"
     ]
    }
   ],
   "source": [
    "from bioprov.programs import prodigal\n",
    "\n",
    "# Because proj.samples is a dictionary, we must iterate using .items()\n",
    "for _, sample in proj.items():\n",
    "    sample.add_programs(prodigal(sample))\n",
    "    sample.run_programs(_print=False)"
   ]
  },
  {
   "cell_type": "markdown",
   "metadata": {},
   "source": [
    "Because Prodigal is a **PresetProgram**, it already expects a Sample to have a File tagged as `\"assembly\"`. This can be customized by setting the `input_files` argument in the constructor of PresetProgram:"
   ]
  },
  {
   "cell_type": "code",
   "execution_count": 25,
   "metadata": {},
   "outputs": [
    {
     "data": {
      "text/plain": [
       "\u001b[0;31mInit signature:\u001b[0m\n",
       "\u001b[0mbp\u001b[0m\u001b[0;34m.\u001b[0m\u001b[0mPresetProgram\u001b[0m\u001b[0;34m(\u001b[0m\u001b[0;34m\u001b[0m\n",
       "\u001b[0;34m\u001b[0m    \u001b[0mname\u001b[0m\u001b[0;34m=\u001b[0m\u001b[0;32mNone\u001b[0m\u001b[0;34m,\u001b[0m\u001b[0;34m\u001b[0m\n",
       "\u001b[0;34m\u001b[0m    \u001b[0mparams\u001b[0m\u001b[0;34m=\u001b[0m\u001b[0;32mNone\u001b[0m\u001b[0;34m,\u001b[0m\u001b[0;34m\u001b[0m\n",
       "\u001b[0;34m\u001b[0m    \u001b[0msample\u001b[0m\u001b[0;34m=\u001b[0m\u001b[0;32mNone\u001b[0m\u001b[0;34m,\u001b[0m\u001b[0;34m\u001b[0m\n",
       "\u001b[0;34m\u001b[0m    \u001b[0minput_files\u001b[0m\u001b[0;34m=\u001b[0m\u001b[0;32mNone\u001b[0m\u001b[0;34m,\u001b[0m\u001b[0;34m\u001b[0m\n",
       "\u001b[0;34m\u001b[0m    \u001b[0moutput_files\u001b[0m\u001b[0;34m=\u001b[0m\u001b[0;32mNone\u001b[0m\u001b[0;34m,\u001b[0m\u001b[0;34m\u001b[0m\n",
       "\u001b[0;34m\u001b[0m    \u001b[0mpreffix_tag\u001b[0m\u001b[0;34m=\u001b[0m\u001b[0;32mNone\u001b[0m\u001b[0;34m,\u001b[0m\u001b[0;34m\u001b[0m\n",
       "\u001b[0;34m\u001b[0m\u001b[0;34m)\u001b[0m\u001b[0;34m\u001b[0m\u001b[0;34m\u001b[0m\u001b[0m\n",
       "\u001b[0;31mDocstring:\u001b[0m     \n",
       "Class for holding a preset program and related functions.\n",
       "\n",
       "A WorkflowStep instance inherits from Program and consists of an instance\n",
       "of Program with an associated instance of Sample or Project.\n",
       "\u001b[0;31mInit docstring:\u001b[0m\n",
       ":param name: Instance of bioprov.Program\n",
       ":param params: Dictionary of parameters.\n",
       ":param sample: An instance of Sample or Project.\n",
       ":param input_files: A dictionary consisting of Parameter keys as keys and a File.tag\n",
       "                    as value, where File.tag is a string that must be a key in\n",
       "                    self.sample.files with a corresponding existing file.\n",
       ":param output_files: A dictionary consisting of Parameter keys as keys and a tuple\n",
       "                     consisting of (File.tag, suffix) as value.\n",
       "                     File.tag will become a key in self.sample.files and the its value\n",
       "                     will be the sample_name + suffix.\n",
       ":param preffix_tag: A value in the input_files argument, which corresponds\n",
       "                    to a key in self.sample.files. All file names of output\n",
       "                    files will be stemmed from this file, hence 'preffix'.\n",
       "\u001b[0;31mFile:\u001b[0m           ~/anaconda3/envs/bioprov/lib/python3.7/site-packages/bioprov/src/main.py\n",
       "\u001b[0;31mType:\u001b[0m           type\n",
       "\u001b[0;31mSubclasses:\u001b[0m     \n"
      ]
     },
     "metadata": {},
     "output_type": "display_data"
    }
   ],
   "source": [
    "bp.PresetProgram?"
   ]
  },
  {
   "cell_type": "markdown",
   "metadata": {},
   "source": [
    "### BioProvProjects and W3C-PROV documents (under development)\n",
    "\n",
    "Now that we've imported our **Project** and ran the **PresetProgram** Prodigal on the **Samples**, we can record the provenance from our workflow. For this, we use the **BioProvDocument** class, which couples the **Project** to a **ProvDocument** from the [Prov](https://prov.readthedocs.io/en/latest/) library."
   ]
  },
  {
   "cell_type": "code",
   "execution_count": 26,
   "metadata": {},
   "outputs": [],
   "source": [
    "prov = bp.BioProvDocument(proj)"
   ]
  },
  {
   "cell_type": "markdown",
   "metadata": {},
   "source": [
    "Now, our **Project** has been associated with a `prov.ProvDocument` object, which is an attribute of the **BioProvDocument** instance. Although we have overwritten the `proj` variable, our project is still accessible as the `.project` attribute of the BioProvDocument:"
   ]
  },
  {
   "cell_type": "code",
   "execution_count": 29,
   "metadata": {},
   "outputs": [
    {
     "name": "stdout",
     "output_type": "stream",
     "text": [
      "Project 'W3C-PROV-tutorial.json' with 2 samples. \n",
      "\n"
     ]
    }
   ],
   "source": [
    "print(prov.project, \"\\n\")"
   ]
  },
  {
   "cell_type": "markdown",
   "metadata": {},
   "source": [
    "There are numerous ways to manipulate this ProvDocument. \n",
    "\n",
    "* We can extract the PROV-N format, which is a human-readable provenance format, by using the `get_provn()` method;\n",
    "* We can serialize the document as a W3C-PROV compatible JSON\n",
    "* We can export the document as a provenance graph using `prov_to_dot()`"
   ]
  },
  {
   "cell_type": "code",
   "execution_count": 28,
   "metadata": {},
   "outputs": [
    {
     "name": "stdout",
     "output_type": "stream",
     "text": [
      "PROV-N \n",
      "\n",
      " document\n",
      "  prefix project <Project 'W3C-PROV-tutorial.json' with 2 samples.>\n",
      "  prefix users <Users associated with BioProv Project 'W3C-PROV-tutorial.json'>\n",
      "  prefix samples <Samples associated with bioprov Project 'W3C-PROV-tutorial.json'>\n",
      "  prefix GCF_000010065.1_ASM1006v1.programs <Programs associated with Sample GCF_000010065.1_ASM1006v1>\n",
      "  prefix envs <Environments associated with User 'vini'>\n",
      "  prefix GCF_000007925.1_ASM792v1.programs <Programs associated with Sample GCF_000007925.1_ASM792v1>\n",
      "  \n",
      "  entity(project:Project 'W3C-PROV-tutorial.json' with 2 samples.)\n",
      "  wasDerivedFrom(samples:GCF_000010065.1_ASM1006v1, project:Project 'W3C-PROV-tutorial.json' with 2 samples., -, -, -)\n",
      "  wasDerivedFrom(GCF_000010065.1_ASM1006v1.programs:prodigal, envs:Environment_caafe21a8b87100b49a042b205b378e1a106dc7a, -, -, -)\n",
      "  wasDerivedFrom(samples:GCF_000007925.1_ASM792v1, project:Project 'W3C-PROV-tutorial.json' with 2 samples., -, -, -)\n",
      "  wasDerivedFrom(GCF_000007925.1_ASM792v1.programs:prodigal, envs:Environment_caafe21a8b87100b49a042b205b378e1a106dc7a, -, -, -)\n",
      "  bundle users:vini\n",
      "    default <vini>\n",
      "    prefix envs <Environments associated with User 'vini'>\n",
      "    prefix users <Users associated with BioProv Project 'W3C-PROV-tutorial.json'>\n",
      "    \n",
      "    agent(users:vini)\n",
      "    entity(envs:Environment_caafe21a8b87100b49a042b205b378e1a106dc7a)\n",
      "    wasAttributedTo(envs:Environment_caafe21a8b87100b49a042b205b378e1a106dc7a, users:vini)\n",
      "  endBundle\n",
      "  bundle samples:GCF_000010065.1_ASM1006v1\n",
      "    default <GCF_000010065.1_ASM1006v1>\n",
      "    prefix GCF_000010065.1_ASM1006v1.files <Files associated with Sample GCF_000010065.1_ASM1006v1>\n",
      "    prefix GCF_000010065.1_ASM1006v1_genomic </Users/vini/Bio/BioProv/docs/tutorials/../../bioprov/data/genomes/GCF_000010065.1_ASM1006v1_genomic.fna>\n",
      "    prefix samples <Samples associated with bioprov Project 'W3C-PROV-tutorial.json'>\n",
      "    prefix GCF_000010065.1_ASM1006v1_genomic_proteins </Users/vini/Bio/BioProv/docs/tutorials/../../bioprov/data/genomes/GCF_000010065.1_ASM1006v1_genomic_proteins.faa>\n",
      "    prefix GCF_000010065.1_ASM1006v1_genomic_genes </Users/vini/Bio/BioProv/docs/tutorials/../../bioprov/data/genomes/GCF_000010065.1_ASM1006v1_genomic_genes.fna>\n",
      "    prefix GCF_000010065.1_ASM1006v1_genomic_scores </Users/vini/Bio/BioProv/docs/tutorials/../../bioprov/data/genomes/GCF_000010065.1_ASM1006v1_genomic_scores.cds>\n",
      "    prefix GCF_000010065.1_ASM1006v1.programs <Programs associated with Sample GCF_000010065.1_ASM1006v1>\n",
      "    \n",
      "    entity(samples:GCF_000010065.1_ASM1006v1)\n",
      "    entity(GCF_000010065.1_ASM1006v1.files:GCF_000010065.1_ASM1006v1_genomic)\n",
      "    wasDerivedFrom(GCF_000010065.1_ASM1006v1.files:GCF_000010065.1_ASM1006v1_genomic, samples:GCF_000010065.1_ASM1006v1, -, -, -)\n",
      "    entity(GCF_000010065.1_ASM1006v1.files:GCF_000010065.1_ASM1006v1_genomic_proteins)\n",
      "    wasDerivedFrom(GCF_000010065.1_ASM1006v1.files:GCF_000010065.1_ASM1006v1_genomic_proteins, samples:GCF_000010065.1_ASM1006v1, -, -, -)\n",
      "    entity(GCF_000010065.1_ASM1006v1.files:GCF_000010065.1_ASM1006v1_genomic_genes)\n",
      "    wasDerivedFrom(GCF_000010065.1_ASM1006v1.files:GCF_000010065.1_ASM1006v1_genomic_genes, samples:GCF_000010065.1_ASM1006v1, -, -, -)\n",
      "    entity(GCF_000010065.1_ASM1006v1.files:GCF_000010065.1_ASM1006v1_genomic_scores)\n",
      "    wasDerivedFrom(GCF_000010065.1_ASM1006v1.files:GCF_000010065.1_ASM1006v1_genomic_scores, samples:GCF_000010065.1_ASM1006v1, -, -, -)\n",
      "    activity(GCF_000010065.1_ASM1006v1.programs:prodigal, 2020-10-23T16:30:20, 2020-10-23T16:30:27)\n",
      "    used(GCF_000010065.1_ASM1006v1.files:GCF_000010065.1_ASM1006v1_genomic, GCF_000010065.1_ASM1006v1.programs:prodigal, -)\n",
      "    wasGeneratedBy(GCF_000010065.1_ASM1006v1.files:GCF_000010065.1_ASM1006v1_genomic_proteins, GCF_000010065.1_ASM1006v1.programs:prodigal, -)\n",
      "    wasGeneratedBy(GCF_000010065.1_ASM1006v1.files:GCF_000010065.1_ASM1006v1_genomic_genes, GCF_000010065.1_ASM1006v1.programs:prodigal, -)\n",
      "    wasGeneratedBy(GCF_000010065.1_ASM1006v1.files:GCF_000010065.1_ASM1006v1_genomic_scores, GCF_000010065.1_ASM1006v1.programs:prodigal, -)\n",
      "  endBundle\n",
      "  bundle samples:GCF_000007925.1_ASM792v1\n",
      "    default <GCF_000007925.1_ASM792v1>\n",
      "    prefix GCF_000007925.1_ASM792v1.files <Files associated with Sample GCF_000007925.1_ASM792v1>\n",
      "    prefix GCF_000007925.1_ASM792v1_genomic </Users/vini/Bio/BioProv/docs/tutorials/../../bioprov/data/genomes/GCF_000007925.1_ASM792v1_genomic.fna>\n",
      "    prefix samples <Samples associated with bioprov Project 'W3C-PROV-tutorial.json'>\n",
      "    prefix GCF_000007925.1_ASM792v1_genomic_proteins </Users/vini/Bio/BioProv/docs/tutorials/../../bioprov/data/genomes/GCF_000007925.1_ASM792v1_genomic_proteins.faa>\n",
      "    prefix GCF_000007925.1_ASM792v1_genomic_genes </Users/vini/Bio/BioProv/docs/tutorials/../../bioprov/data/genomes/GCF_000007925.1_ASM792v1_genomic_genes.fna>\n",
      "    prefix GCF_000007925.1_ASM792v1_genomic_scores </Users/vini/Bio/BioProv/docs/tutorials/../../bioprov/data/genomes/GCF_000007925.1_ASM792v1_genomic_scores.cds>\n",
      "    prefix GCF_000007925.1_ASM792v1.programs <Programs associated with Sample GCF_000007925.1_ASM792v1>\n",
      "    \n",
      "    entity(samples:GCF_000007925.1_ASM792v1)\n",
      "    entity(GCF_000007925.1_ASM792v1.files:GCF_000007925.1_ASM792v1_genomic)\n",
      "    wasDerivedFrom(GCF_000007925.1_ASM792v1.files:GCF_000007925.1_ASM792v1_genomic, samples:GCF_000007925.1_ASM792v1, -, -, -)\n",
      "    entity(GCF_000007925.1_ASM792v1.files:GCF_000007925.1_ASM792v1_genomic_proteins)\n",
      "    wasDerivedFrom(GCF_000007925.1_ASM792v1.files:GCF_000007925.1_ASM792v1_genomic_proteins, samples:GCF_000007925.1_ASM792v1, -, -, -)\n",
      "    entity(GCF_000007925.1_ASM792v1.files:GCF_000007925.1_ASM792v1_genomic_genes)\n",
      "    wasDerivedFrom(GCF_000007925.1_ASM792v1.files:GCF_000007925.1_ASM792v1_genomic_genes, samples:GCF_000007925.1_ASM792v1, -, -, -)\n",
      "    entity(GCF_000007925.1_ASM792v1.files:GCF_000007925.1_ASM792v1_genomic_scores)\n",
      "    wasDerivedFrom(GCF_000007925.1_ASM792v1.files:GCF_000007925.1_ASM792v1_genomic_scores, samples:GCF_000007925.1_ASM792v1, -, -, -)\n",
      "    activity(GCF_000007925.1_ASM792v1.programs:prodigal, 2020-10-23T16:30:27, 2020-10-23T16:30:32)\n",
      "    used(GCF_000007925.1_ASM792v1.files:GCF_000007925.1_ASM792v1_genomic, GCF_000007925.1_ASM792v1.programs:prodigal, -)\n",
      "    wasGeneratedBy(GCF_000007925.1_ASM792v1.files:GCF_000007925.1_ASM792v1_genomic_proteins, GCF_000007925.1_ASM792v1.programs:prodigal, -)\n",
      "    wasGeneratedBy(GCF_000007925.1_ASM792v1.files:GCF_000007925.1_ASM792v1_genomic_genes, GCF_000007925.1_ASM792v1.programs:prodigal, -)\n",
      "    wasGeneratedBy(GCF_000007925.1_ASM792v1.files:GCF_000007925.1_ASM792v1_genomic_scores, GCF_000007925.1_ASM792v1.programs:prodigal, -)\n",
      "  endBundle\n",
      "endDocument\n",
      "PROV-JSON \n",
      "\n",
      " {\"prefix\": {\"project\": \"Project 'W3C-PROV-tutorial.json' with 2 samples.\", \"users\": \"Users associated with BioProv Project 'W3C-PROV-tutorial.json'\", \"samples\": \"Samples associated with bioprov Project 'W3C-PROV-tutorial.json'\", \"GCF_000010065.1_ASM1006v1.programs\": \"Programs associated with Sample GCF_000010065.1_ASM1006v1\", \"envs\": \"Environments associated with User 'vini'\", \"GCF_000007925.1_ASM792v1.programs\": \"Programs associated with Sample GCF_000007925.1_ASM792v1\"}, \"entity\": {\"project:Project 'W3C-PROV-tutorial.json' with 2 samples.\": {}}, \"wasDerivedFrom\": {\"_:id1\": {\"prov:generatedEntity\": \"samples:GCF_000010065.1_ASM1006v1\", \"prov:usedEntity\": \"project:Project 'W3C-PROV-tutorial.json' with 2 samples.\"}, \"_:id2\": {\"prov:generatedEntity\": \"GCF_000010065.1_ASM1006v1.programs:prodigal\", \"prov:usedEntity\": \"envs:Environment_caafe21a8b87100b49a042b205b378e1a106dc7a\"}, \"_:id3\": {\"prov:generatedEntity\": \"samples:GCF_000007925.1_ASM792v1\", \"prov:usedEntity\": \"project:Project 'W3C-PROV-tutorial.json' with 2 samples.\"}, \"_:id4\": {\"prov:generatedEntity\": \"GCF_000007925.1_ASM792v1.programs:prodigal\", \"prov:usedEntity\": \"envs:Environment_caafe21a8b87100b49a042b205b378e1a106dc7a\"}}, \"bundle\": {\"users:vini\": {\"prefix\": {\"envs\": \"Environments associated with User 'vini'\", \"users\": \"Users associated with BioProv Project 'W3C-PROV-tutorial.json'\", \"default\": \"vini\"}, \"agent\": {\"users:vini\": {}}, \"entity\": {\"envs:Environment_caafe21a8b87100b49a042b205b378e1a106dc7a\": {}}, \"wasAttributedTo\": {\"_:id1\": {\"prov:entity\": \"envs:Environment_caafe21a8b87100b49a042b205b378e1a106dc7a\", \"prov:agent\": \"users:vini\"}}}, \"samples:GCF_000010065.1_ASM1006v1\": {\"prefix\": {\"GCF_000010065.1_ASM1006v1.files\": \"Files associated with Sample GCF_000010065.1_ASM1006v1\", \"GCF_000010065.1_ASM1006v1_genomic\": \"/Users/vini/Bio/BioProv/docs/tutorials/../../bioprov/data/genomes/GCF_000010065.1_ASM1006v1_genomic.fna\", \"samples\": \"Samples associated with bioprov Project 'W3C-PROV-tutorial.json'\", \"GCF_000010065.1_ASM1006v1_genomic_proteins\": \"/Users/vini/Bio/BioProv/docs/tutorials/../../bioprov/data/genomes/GCF_000010065.1_ASM1006v1_genomic_proteins.faa\", \"GCF_000010065.1_ASM1006v1_genomic_genes\": \"/Users/vini/Bio/BioProv/docs/tutorials/../../bioprov/data/genomes/GCF_000010065.1_ASM1006v1_genomic_genes.fna\", \"GCF_000010065.1_ASM1006v1_genomic_scores\": \"/Users/vini/Bio/BioProv/docs/tutorials/../../bioprov/data/genomes/GCF_000010065.1_ASM1006v1_genomic_scores.cds\", \"GCF_000010065.1_ASM1006v1.programs\": \"Programs associated with Sample GCF_000010065.1_ASM1006v1\", \"default\": \"GCF_000010065.1_ASM1006v1\"}, \"entity\": {\"samples:GCF_000010065.1_ASM1006v1\": {}, \"GCF_000010065.1_ASM1006v1.files:GCF_000010065.1_ASM1006v1_genomic\": {}, \"GCF_000010065.1_ASM1006v1.files:GCF_000010065.1_ASM1006v1_genomic_proteins\": {}, \"GCF_000010065.1_ASM1006v1.files:GCF_000010065.1_ASM1006v1_genomic_genes\": {}, \"GCF_000010065.1_ASM1006v1.files:GCF_000010065.1_ASM1006v1_genomic_scores\": {}}, \"wasDerivedFrom\": {\"_:id1\": {\"prov:generatedEntity\": \"GCF_000010065.1_ASM1006v1.files:GCF_000010065.1_ASM1006v1_genomic\", \"prov:usedEntity\": \"samples:GCF_000010065.1_ASM1006v1\"}, \"_:id2\": {\"prov:generatedEntity\": \"GCF_000010065.1_ASM1006v1.files:GCF_000010065.1_ASM1006v1_genomic_proteins\", \"prov:usedEntity\": \"samples:GCF_000010065.1_ASM1006v1\"}, \"_:id3\": {\"prov:generatedEntity\": \"GCF_000010065.1_ASM1006v1.files:GCF_000010065.1_ASM1006v1_genomic_genes\", \"prov:usedEntity\": \"samples:GCF_000010065.1_ASM1006v1\"}, \"_:id4\": {\"prov:generatedEntity\": \"GCF_000010065.1_ASM1006v1.files:GCF_000010065.1_ASM1006v1_genomic_scores\", \"prov:usedEntity\": \"samples:GCF_000010065.1_ASM1006v1\"}}, \"activity\": {\"GCF_000010065.1_ASM1006v1.programs:prodigal\": {\"prov:startTime\": \"2020-10-23T16:30:20\", \"prov:endTime\": \"2020-10-23T16:30:27\"}}, \"used\": {\"_:id5\": {\"prov:activity\": \"GCF_000010065.1_ASM1006v1.files:GCF_000010065.1_ASM1006v1_genomic\", \"prov:entity\": \"GCF_000010065.1_ASM1006v1.programs:prodigal\"}}, \"wasGeneratedBy\": {\"_:id6\": {\"prov:entity\": \"GCF_000010065.1_ASM1006v1.files:GCF_000010065.1_ASM1006v1_genomic_proteins\", \"prov:activity\": \"GCF_000010065.1_ASM1006v1.programs:prodigal\"}, \"_:id7\": {\"prov:entity\": \"GCF_000010065.1_ASM1006v1.files:GCF_000010065.1_ASM1006v1_genomic_genes\", \"prov:activity\": \"GCF_000010065.1_ASM1006v1.programs:prodigal\"}, \"_:id8\": {\"prov:entity\": \"GCF_000010065.1_ASM1006v1.files:GCF_000010065.1_ASM1006v1_genomic_scores\", \"prov:activity\": \"GCF_000010065.1_ASM1006v1.programs:prodigal\"}}}, \"samples:GCF_000007925.1_ASM792v1\": {\"prefix\": {\"GCF_000007925.1_ASM792v1.files\": \"Files associated with Sample GCF_000007925.1_ASM792v1\", \"GCF_000007925.1_ASM792v1_genomic\": \"/Users/vini/Bio/BioProv/docs/tutorials/../../bioprov/data/genomes/GCF_000007925.1_ASM792v1_genomic.fna\", \"samples\": \"Samples associated with bioprov Project 'W3C-PROV-tutorial.json'\", \"GCF_000007925.1_ASM792v1_genomic_proteins\": \"/Users/vini/Bio/BioProv/docs/tutorials/../../bioprov/data/genomes/GCF_000007925.1_ASM792v1_genomic_proteins.faa\", \"GCF_000007925.1_ASM792v1_genomic_genes\": \"/Users/vini/Bio/BioProv/docs/tutorials/../../bioprov/data/genomes/GCF_000007925.1_ASM792v1_genomic_genes.fna\", \"GCF_000007925.1_ASM792v1_genomic_scores\": \"/Users/vini/Bio/BioProv/docs/tutorials/../../bioprov/data/genomes/GCF_000007925.1_ASM792v1_genomic_scores.cds\", \"GCF_000007925.1_ASM792v1.programs\": \"Programs associated with Sample GCF_000007925.1_ASM792v1\", \"default\": \"GCF_000007925.1_ASM792v1\"}, \"entity\": {\"samples:GCF_000007925.1_ASM792v1\": {}, \"GCF_000007925.1_ASM792v1.files:GCF_000007925.1_ASM792v1_genomic\": {}, \"GCF_000007925.1_ASM792v1.files:GCF_000007925.1_ASM792v1_genomic_proteins\": {}, \"GCF_000007925.1_ASM792v1.files:GCF_000007925.1_ASM792v1_genomic_genes\": {}, \"GCF_000007925.1_ASM792v1.files:GCF_000007925.1_ASM792v1_genomic_scores\": {}}, \"wasDerivedFrom\": {\"_:id1\": {\"prov:generatedEntity\": \"GCF_000007925.1_ASM792v1.files:GCF_000007925.1_ASM792v1_genomic\", \"prov:usedEntity\": \"samples:GCF_000007925.1_ASM792v1\"}, \"_:id2\": {\"prov:generatedEntity\": \"GCF_000007925.1_ASM792v1.files:GCF_000007925.1_ASM792v1_genomic_proteins\", \"prov:usedEntity\": \"samples:GCF_000007925.1_ASM792v1\"}, \"_:id3\": {\"prov:generatedEntity\": \"GCF_000007925.1_ASM792v1.files:GCF_000007925.1_ASM792v1_genomic_genes\", \"prov:usedEntity\": \"samples:GCF_000007925.1_ASM792v1\"}, \"_:id4\": {\"prov:generatedEntity\": \"GCF_000007925.1_ASM792v1.files:GCF_000007925.1_ASM792v1_genomic_scores\", \"prov:usedEntity\": \"samples:GCF_000007925.1_ASM792v1\"}}, \"activity\": {\"GCF_000007925.1_ASM792v1.programs:prodigal\": {\"prov:startTime\": \"2020-10-23T16:30:27\", \"prov:endTime\": \"2020-10-23T16:30:32\"}}, \"used\": {\"_:id5\": {\"prov:activity\": \"GCF_000007925.1_ASM792v1.files:GCF_000007925.1_ASM792v1_genomic\", \"prov:entity\": \"GCF_000007925.1_ASM792v1.programs:prodigal\"}}, \"wasGeneratedBy\": {\"_:id6\": {\"prov:entity\": \"GCF_000007925.1_ASM792v1.files:GCF_000007925.1_ASM792v1_genomic_proteins\", \"prov:activity\": \"GCF_000007925.1_ASM792v1.programs:prodigal\"}, \"_:id7\": {\"prov:entity\": \"GCF_000007925.1_ASM792v1.files:GCF_000007925.1_ASM792v1_genomic_genes\", \"prov:activity\": \"GCF_000007925.1_ASM792v1.programs:prodigal\"}, \"_:id8\": {\"prov:entity\": \"GCF_000007925.1_ASM792v1.files:GCF_000007925.1_ASM792v1_genomic_scores\", \"prov:activity\": \"GCF_000007925.1_ASM792v1.programs:prodigal\"}}}}}\n"
     ]
    }
   ],
   "source": [
    "from prov.dot import prov_to_dot\n",
    "\n",
    "print(\"PROV-N\", \"\\n\\n\", prov.ProvDocument.get_provn())\n",
    "print(\"PROV-JSON\", \"\\n\\n\", prov.ProvDocument.serialize())\n",
    "dot = prov_to_dot(prov.ProvDocument)\n",
    "dot.write_png(\"W3C-PROV-tutorial.png\")"
   ]
  },
  {
   "cell_type": "markdown",
   "metadata": {},
   "source": [
    "### To be continued\n",
    "\n",
    "The graph feature is still under development, so it only looks like this now:\n",
    "\n",
    "![](W3C-PROV-tutorial.png)\n",
    "\n",
    "Previous versions of the provenance graphs look like this:\n",
    "\n",
    "![](deprecated_graph.png)"
   ]
  },
  {
   "cell_type": "markdown",
   "metadata": {},
   "source": [
    "This tutorial is still under development, and any suggestions or contributions are appreciated!"
   ]
  }
 ],
 "metadata": {
  "kernelspec": {
   "display_name": "Python [conda env:bioprov]",
   "language": "python",
   "name": "conda-env-bioprov-py"
  },
  "language_info": {
   "codemirror_mode": {
    "name": "ipython",
    "version": 3
   },
   "file_extension": ".py",
   "mimetype": "text/x-python",
   "name": "python",
   "nbconvert_exporter": "python",
   "pygments_lexer": "ipython3",
   "version": "3.7.6"
  }
 },
 "nbformat": 4,
 "nbformat_minor": 4
}
