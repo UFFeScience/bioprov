{
 "cells": [
  {
   "cell_type": "markdown",
   "metadata": {},
   "source": [
    "## Welcome to the BioProv tutorials!\n",
    "\n",
    "### Tutorial index\n",
    "* <a href=\"./introduction.ipynb\">Introduction to BioProv</a>\n",
    "* <a href=\"./w3c-prov.ipynb\">W3C-PROV projects</a>\n",
    "* <a href=\"./workflows_and_presets.ipynb\">Presets and Workflows</a>\n",
    "\n",
    "## W3C-PROV workflows\n",
    "\n",
    "In the last tutorial we learned about how to start a **Project** in BioProv, along with the main classes of the library. In this tutorial, we are going to look at some additional BioProv functions to facilitate our work. We are also going to produce a W3C-PROV document describing our workflow. Let's dive into it.\n",
    "\n",
    "### Importing data easily\n",
    "\n",
    "You might be thinking that creating BioProv Projects and Samples one by one is quite repetitive. To facilitate this, it is possible to import data into BioProv using comma- or tab-delimited files, using the BioProv `read_csv()` function."
   ]
  },
  {
   "cell_type": "code",
   "execution_count": null,
   "metadata": {},
   "outputs": [],
   "source": [
    "import bioprov as bp\n",
    "from bioprov.data import picocyano_dataset\n",
    "\n",
    "proj = bp.read_csv(picocyano_dataset, tag=\"picocyano\"); proj"
   ]
  },
  {
   "cell_type": "markdown",
   "metadata": {},
   "source": [
    "The `picocyano_dataset` variable is simply a path pointing to a comma-delimited file that comes with BioProv:"
   ]
  },
  {
   "cell_type": "code",
   "execution_count": null,
   "metadata": {},
   "outputs": [],
   "source": [
    "picocyano_dataset"
   ]
  },
  {
   "cell_type": "code",
   "execution_count": null,
   "metadata": {},
   "outputs": [],
   "source": [
    "# Take a peek at the file\n",
    "!cat ../../bioprov/data/datasets/picocyano.csv"
   ]
  },
  {
   "cell_type": "markdown",
   "metadata": {},
   "source": [
    "You can notice that this is a simple comma-delimited file. If you have a different delimiter, simply pass it to the `sep` argument of `read_csv()`, e.g. if you have a tab-delimited file, type `read_csv(path, sep=\"\\t\")`.\n",
    "\n",
    "BioProv uses Pandas to process delimited files. Because of this, you can also import data from Pandas DataFrames using the `from_df()` function. This is quite handy if you want to process your file for a bit before importing it with BioProv. "
   ]
  },
  {
   "cell_type": "code",
   "execution_count": null,
   "metadata": {},
   "outputs": [],
   "source": [
    "import pandas as pd\n",
    "\n",
    "df = pd.read_csv(picocyano_dataset)\n",
    "\n",
    "df['assembly'] = \"../../\" + df[\"assembly\"]\n",
    "... # do your processing here\n",
    "\n",
    "proj = bp.from_df(df, file_cols=\"assembly\", tag=\"picocyano\"); proj"
   ]
  },
  {
   "cell_type": "markdown",
   "metadata": {},
   "source": [
    "The `from_df()` function has some useful arguments to make sure our data is read correctly. \n",
    "\n",
    "The first is the `index_col`, which is the column used to read the Sample IDs. This column must contain unique identifiers, it can be passed as an integer (position of the column) or as a string (name of the column). However, we don't have to worry about that because it reads the first column as index_col by default.\n",
    "\n",
    "The second useful argument is `file_cols`, which is used to specify the columns which contain the path to files in our data. The second column of our dataset, the `\"assembly\"` column, contains the path to the genome assembly of each sample. This will create an instance of **File** for each **Sample**. The **File** will be tagged with the column name. The remaining columns will be added as attributes to the **Sample**."
   ]
  },
  {
   "cell_type": "code",
   "execution_count": null,
   "metadata": {},
   "outputs": [],
   "source": [
    "proj = bp.from_df(df, file_cols=[\"assembly\",], tag=\"picocyano\")\n",
    "\n",
    "# Creates files tagged with the column name\n",
    "print(proj.samples, \"\\n\")\n",
    "print(proj['GCF_000010065.1'].files, \"\\n\")\n",
    "print(proj['GCF_000010065.1'].attributes)"
   ]
  },
  {
   "cell_type": "markdown",
   "metadata": {},
   "source": [
    "The `read_csv()` function also accepts these arguments and passes them to `from_df()`. So we can just do:"
   ]
  },
  {
   "cell_type": "code",
   "execution_count": null,
   "metadata": {},
   "outputs": [],
   "source": [
    "proj = bp.read_csv(picocyano_dataset, file_cols=[\"assembly\",], tag=\"picocyano\")\n",
    "\n",
    "# Because of the path of the tutorials, we are going to have to process the file,\n",
    "# so we use from_df()\n",
    "\n",
    "df = pd.read_csv(picocyano_dataset)\n",
    "df['assembly'] = \"../../\" + df[\"assembly\"]\n",
    "proj = bp.from_df(df, file_cols=\"assembly\", tag=\"W3C-PROV-tutorial.json\"); proj"
   ]
  },
  {
   "cell_type": "markdown",
   "metadata": {},
   "source": [
    "### SeqFiles\n",
    "The goal of BioProv is to make the provenance of biological data structures more accessible. To do this, there is the class **SeqFile**. An instance of **SeqFile** is a customization of **File** which also holds information about sequences, so it can load files such as FASTA and extract information using the BioPython modules `Bio.SeqIO` and `Bio.AlignIO`. When importing data, we can specify which columns have sequence files by using the `sequencefile_cols` argument. The `\"assembly\"` column of our dataset contains FASTA files, so we can load it as such, and use the `import_data=True` argument to extract information from the files."
   ]
  },
  {
   "cell_type": "code",
   "execution_count": null,
   "metadata": {},
   "outputs": [],
   "source": [
    "df = pd.read_csv(picocyano_dataset)\n",
    "df['assembly'] = \"../../\" + df[\"assembly\"]\n",
    "proj = bp.from_df(df, sequencefile_cols=\"assembly\", tag=\"W3C-PROV-tutorial.json\", import_data=True); proj"
   ]
  },
  {
   "cell_type": "markdown",
   "metadata": {},
   "source": [
    "**SeqFiles** possess attributes which are specific to biological sequences, such as number of sequences, number of basepairs, GC content, and N50. They are attributes of the **Sample** instance and also implemented in the **SeqStats** data class, which is also an attribute of the **SeqFile**."
   ]
  },
  {
   "cell_type": "code",
   "execution_count": null,
   "metadata": {},
   "outputs": [],
   "source": [
    "proj[\"GCF_000010065.1\"].files['assembly'].__dict__"
   ]
  },
  {
   "cell_type": "code",
   "execution_count": null,
   "metadata": {},
   "outputs": [],
   "source": [
    "proj[\"GCF_000010065.1\"].files['assembly'].seqstats"
   ]
  },
  {
   "cell_type": "markdown",
   "metadata": {},
   "source": [
    "### PresetPrograms\n",
    "\n",
    "Now that we've seen an easier way to import data into BioProv, let us see an easier way to run **Programs**. BioProv has the class **PresetProgram**, which is an easier way to create Programs which will be run a lot. There are functions to call PresetPrograms in the `bioprov.programs` module. For this example, we are going to run the program [Prodigal](https://github.com/hyattpd/Prodigal) using a PresetProgram. Prodigal is a gene-calling software which predicts coding sequences from prokaryotic genomes."
   ]
  },
  {
   "cell_type": "code",
   "execution_count": null,
   "metadata": {},
   "outputs": [],
   "source": [
    "from bioprov.programs import prodigal\n",
    "\n",
    "for sample in proj:\n",
    "    sample.add_programs(prodigal(sample))\n",
    "    sample.run_programs()"
   ]
  },
  {
   "cell_type": "markdown",
   "metadata": {},
   "source": [
    "Because Prodigal is a **PresetProgram**, it already expects a Sample to have a File tagged as `\"assembly\"`. This can be customized by setting the `input_files` argument in the constructor of PresetProgram:"
   ]
  },
  {
   "cell_type": "code",
   "execution_count": null,
   "metadata": {},
   "outputs": [],
   "source": [
    "bp.PresetProgram?"
   ]
  },
  {
   "cell_type": "markdown",
   "metadata": {},
   "source": [
    "### BioProvProjects and W3C-PROV documents (under development)\n",
    "\n",
    "Now that we've imported our **Project** and ran the **PresetProgram** Prodigal on the **Samples**, we can record the provenance from our workflow. For this, we use the **BioProvDocument** class, which couples the **Project** to a **ProvDocument** from the [Prov](https://prov.readthedocs.io/en/latest/) library."
   ]
  },
  {
   "cell_type": "code",
   "execution_count": null,
   "metadata": {},
   "outputs": [],
   "source": [
    "prov = bp.BioProvDocument(proj)"
   ]
  },
  {
   "cell_type": "markdown",
   "metadata": {},
   "source": [
    "Now, our **Project** has been associated with a `prov.ProvDocument` object, which is an attribute of the **BioProvDocument** instance. Although we have overwritten the `proj` variable, our project is still accessible as the `.project` attribute of the BioProvDocument:"
   ]
  },
  {
   "cell_type": "code",
   "execution_count": null,
   "metadata": {},
   "outputs": [],
   "source": [
    "print(prov.project)"
   ]
  },
  {
   "cell_type": "markdown",
   "metadata": {},
   "source": [
    "There are numerous ways to manipulate this ProvDocument. \n",
    "\n",
    "* We can extract the PROV-N format, which is a human-readable provenance format, by using the `get_provn()` method;\n",
    "* We can serialize the document as a W3C-PROV compatible JSON\n",
    "* We can export the document as a provenance graph using `prov_to_dot()`"
   ]
  },
  {
   "cell_type": "code",
   "execution_count": null,
   "metadata": {},
   "outputs": [],
   "source": [
    "print(\"PROV-N\", \"\\n\\n\", prov.ProvDocument.get_provn()[:1000])\n",
    "print(\"PROV-JSON\", \"\\n\\n\", prov.ProvDocument.serialize()[:1000])\n",
    "dot = prov.dot\n",
    "dot.write_png(\"W3C-PROV-tutorial.png\")\n",
    "# You can also save the provenance graph in DOT language\n",
    "dot.write_raw(\"W3C-PROV-tutorial.gv\")"
   ]
  },
  {
   "cell_type": "markdown",
   "metadata": {},
   "source": [
    "The generated figure illustrates provenance relationships between objects.\n",
    "\n",
    "![](./W3C-PROV-tutorial.png)"
   ]
  }
 ],
 "metadata": {
  "kernelspec": {
   "display_name": "Python [conda env:bioprov] *",
   "language": "python",
   "name": "conda-env-bioprov-py"
  },
  "language_info": {
   "codemirror_mode": {
    "name": "ipython",
    "version": 3
   },
   "file_extension": ".py",
   "mimetype": "text/x-python",
   "name": "python",
   "nbconvert_exporter": "python",
   "pygments_lexer": "ipython3",
   "version": "3.7.8"
  }
 },
 "nbformat": 4,
 "nbformat_minor": 4
}
