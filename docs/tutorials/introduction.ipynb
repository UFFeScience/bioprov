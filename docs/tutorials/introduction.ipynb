{
 "cells": [
  {
   "cell_type": "markdown",
   "metadata": {},
   "source": [
    "## Welcome to the BioProv tutorials!\n",
    "\n",
    "### Tutorial index\n",
    "* <a href=\"./introduction.ipynb\">Introduction to BioProv</a>\n",
    "* <a href=\"./w3c-prov.ipynb\">W3C-PROV projects</a>\n",
    "\n",
    "## Introduction to BioProv\n",
    "\n",
    "BioProv is a library to record provenance information of bioinformatics workflows. If you work with genomics, you've probably encountered the situation where you have several different files for a number of biological samples, and each file concerns a certain aspect of your data. As you develop your analysis workflow, it is challenging to keep track of the **provenance** of your data: how, when and why each file was created and/or modified. There are many tools to aid in this task, such as [version control](https://journals.plos.org/ploscompbiol/article?id=10.1371/journal.pcbi.1004668), [scientific workflow management systems](https://www.researchgate.net/profile/Jonathan_Mercier/publication/331422146_Evaluating_Workflow_Management_Systems_A_Bioinformatics_Use_Case/links/5d961df9299bf1c363f577b4/Evaluating-Workflow-Management-Systems-A-Bioinformatics-Use-Case.pdf), or even simply keeping a [tidy computational notebook](https://journals.plos.org/ploscompbiol/article?id=10.1371/journal.pcbi.1004385).\n",
    "\n",
    "Although these practices are certainly helpful and [we recommend that you employ them](http://journals.plos.org/ploscompbiol/article?id=10.1371/journal.pcbi.1005510), it is not trivial to integrate and share provenance information across different people, research groups and even computing environments. A solution to this has been the development of [W3C-PROV](https://www.w3.org/TR/prov-overview/), a standard created by the W3C organization to facilitate the exchange of provenance data in the web.\n",
    "\n",
    "The W3C-PROV is composed of a set of [13 documents](https://www.w3.org/TR/prov-overview/), of which maybe the most pertinent to us is the [W3C-PROV-DM](https://www.w3.org/TR/2013/REC-prov-dm-20130430/), which describes a data model to represent provenance information. Although this model is widely implemented in a range of domain applications, including to [scientific workflows](http://www.vldb.org/pvldb/vol11/p2082-sousa.pdf), to the best of our knowledge, there is not yet a software tool specialized in the provenance of biological data structures and bioinformatics workflows. To extract provenance attributes of common file formats and common project organization patterns in bioinformatics, generic provenance extraction systems must be extended or customized, which can be a costly task for both the domain specialist and the developers of said systems. In order to fulfill this gap, we present BioProv, which aims to facilitate the provenance extraction in bioinformatics workflows by providing a Python library which integrates two open source libraries: [BioPython](https://academic.oup.com/bioinformatics/article/25/11/1422/330687) and [Prov](https://prov.readthedocs.io/en/latest/).\n",
    "\n",
    "### How it works\n",
    "\n",
    "BioProv is **project-based**, where each **Project** contains a number of **Samples** which have associated **Files**. **Files** may also be associated directly with the **Project**, if they contain information about zero or multiple samples. BioProv also stores information about **Programs** used create new and modify existing **Files**. **Programs** may contain **Parameters** which will determine how they will be run. Once a **Program** has been run, information about the process will be stored as a **Run**.\n",
    "\n",
    "Therefore, these are the main classes of the BioProv library:\n",
    "* **Project**\n",
    "* **Sample**\n",
    "* **Files**\n",
    "* **Programs**\n",
    "* **Parameters**\n",
    "* **Runs**\n",
    "\n",
    "See an example on how to make a BioProv Project.\n",
    "\n",
    "A **Project** is composed of **Samples**. We are going to create a **Project** with only 1 **Sample**, which is going to be the genome sequence of [*Synechococcus elongatus* PCC 6301](https://www.ncbi.nlm.nih.gov/Taxonomy/Browser/wwwtax.cgi?id=269084), a cyanobacteria. We are going to add attributes to this **Sample** using the *attributes* argument, which takes a Python `dict`. We are going to fill it with information about [its location on NCBI](https://www.ncbi.nlm.nih.gov/assembly/GCF_000010065.1).\n",
    "\n",
    "We then create a **Project** using a list of **Samples**."
   ]
  },
  {
   "cell_type": "code",
   "execution_count": 1,
   "metadata": {},
   "outputs": [],
   "source": [
    "import bioprov as bp \n",
    "\n",
    "sample = bp.Sample(\"Synechococcus_elongatus_PCC_6301\",\n",
    "                   attributes={\"ncbi_accession\": \"GCF_000010065.1\",\n",
    "                               \"ncbi_database\": \"assembly\"}\n",
    "                  )\n",
    "\n",
    "project = bp.Project(samples=[sample,], tag=\"introduction\")"
   ]
  },
  {
   "cell_type": "markdown",
   "metadata": {},
   "source": [
    "### Adding Files and Programs\n",
    "\n",
    "Now we have a **Project** containing 1 **Sample**. However, our sample has no associated **Files** nor **Programs**. Let's add a **File** to our **Sample** and run a program on it.\n",
    "\n",
    "BioProv comes with an auxiliary `data` subpackage, which contains some preset data for us to experiment with. The `synechococcus_genome` variable is an instance of `pathlib.PosixPath`, which is used to hold file paths."
   ]
  },
  {
   "cell_type": "code",
   "execution_count": 2,
   "metadata": {},
   "outputs": [
    {
     "data": {
      "text/plain": [
       "{'assembly': /Users/vini/anaconda3/envs/bioprov/lib/python3.7/site-packages/bioprov/data/genomes/GCF_000010065.1_ASM1006v1_genomic.fna}"
      ]
     },
     "execution_count": 2,
     "metadata": {},
     "output_type": "execute_result"
    }
   ],
   "source": [
    "from bioprov.data import synechococcus_genome\n",
    "\n",
    "# We create a File object based on a path or a string representing a path.\n",
    "assembly_file = bp.File(synechococcus_genome, tag=\"assembly\")\n",
    "\n",
    "# We can add this File to our Sample\n",
    "sample.add_files(assembly_file)\n",
    "sample.files"
   ]
  },
  {
   "cell_type": "markdown",
   "metadata": {},
   "source": [
    "Now our instance of `Sample` holds a `File` object. Files can be accessed by the attribute `.files`, which is a dictionary composed of `{file.tag: File instance}`."
   ]
  },
  {
   "cell_type": "markdown",
   "metadata": {},
   "source": [
    "We can now run a **Program** in our **Sample**. The sample's **Files** can be used as **Parameter** to the program. Programs are processed by the UNIX shell. \n",
    "\n",
    "Here we are setting up a program using UNIX's `grep` to count the occurrences of a particular kmer in our sample. We are then going to write the results to a new **File**.\n",
    "\n",
    "To write our program, we start with an instance of the **Program** class and add **Parameters** to it."
   ]
  },
  {
   "cell_type": "code",
   "execution_count": 3,
   "metadata": {},
   "outputs": [],
   "source": [
    "grep = bp.Program(\"grep\")"
   ]
  },
  {
   "cell_type": "markdown",
   "metadata": {},
   "source": [
    "Now that we have a **Program**, let's set the other variables we'll need.\n",
    "\n",
    "The first is an easy one, the kmer we are going to count:"
   ]
  },
  {
   "cell_type": "code",
   "execution_count": 4,
   "metadata": {},
   "outputs": [],
   "source": [
    "kmer = \"GATTACA\""
   ]
  },
  {
   "cell_type": "markdown",
   "metadata": {},
   "source": [
    "Then, we need to create a new **File** in our **Sample**. The files associated with a **Sample** can be accessed in the `Sample.files` dictionary:"
   ]
  },
  {
   "cell_type": "code",
   "execution_count": 5,
   "metadata": {},
   "outputs": [
    {
     "data": {
      "text/plain": [
       "{'assembly': /Users/vini/anaconda3/envs/bioprov/lib/python3.7/site-packages/bioprov/data/genomes/GCF_000010065.1_ASM1006v1_genomic.fna}"
      ]
     },
     "execution_count": 5,
     "metadata": {},
     "output_type": "execute_result"
    }
   ],
   "source": [
    "sample.files"
   ]
  },
  {
   "cell_type": "markdown",
   "metadata": {},
   "source": [
    "We are going to create a new **File** in this dictionary. To set the path of this **File**, we can use attributes from the existing files.\n",
    "\n",
    "Each item in the `Sample.files` dictionary is an instance of `bioprov.File`, so there are several attributes which may be useful:"
   ]
  },
  {
   "cell_type": "code",
   "execution_count": 6,
   "metadata": {},
   "outputs": [
    {
     "name": "stdout",
     "output_type": "stream",
     "text": [
      "<class 'bioprov.src.files.File'> \n",
      "\n"
     ]
    },
    {
     "data": {
      "text/plain": [
       "{'path': PosixPath('/Users/vini/anaconda3/envs/bioprov/lib/python3.7/site-packages/bioprov/data/genomes/GCF_000010065.1_ASM1006v1_genomic.fna'),\n",
       " 'name': 'GCF_000010065.1_ASM1006v1_genomic',\n",
       " 'basename': 'GCF_000010065.1_ASM1006v1_genomic.fna',\n",
       " 'directory': PosixPath('/Users/vini/anaconda3/envs/bioprov/lib/python3.7/site-packages/bioprov/data/genomes'),\n",
       " 'extension': '.fna',\n",
       " 'tag': 'assembly',\n",
       " 'attributes': {},\n",
       " '_exists': True,\n",
       " '_size': '2.6 MB',\n",
       " 'raw_size': 2730026,\n",
       " 'sha1': 'f8658496b343257690f828ec14226644dc9e9ca2',\n",
       " '_document': None,\n",
       " '_entity': None}"
      ]
     },
     "execution_count": 6,
     "metadata": {},
     "output_type": "execute_result"
    }
   ],
   "source": [
    "print(sample.files['assembly'].__class__, \"\\n\")\n",
    "sample.files['assembly'].__dict__"
   ]
  },
  {
   "cell_type": "markdown",
   "metadata": {},
   "source": [
    "For example, if we want to create the new file in the same directory as the `'assembly'` file, we can use its `File.directory` attribute:"
   ]
  },
  {
   "cell_type": "code",
   "execution_count": 7,
   "metadata": {},
   "outputs": [],
   "source": [
    "newfilepath = sample.files['assembly'].directory.joinpath(f\"{kmer}_count.txt\")"
   ]
  },
  {
   "cell_type": "markdown",
   "metadata": {},
   "source": [
    "We can now set a new file in the `Sample.files` dictionary based on our kmer and the directory of the existing `'assembly'` **File**:"
   ]
  },
  {
   "cell_type": "code",
   "execution_count": 8,
   "metadata": {},
   "outputs": [
    {
     "name": "stdout",
     "output_type": "stream",
     "text": [
      "Updating file GATTACA_count with value /Users/vini/anaconda3/envs/bioprov/lib/python3.7/site-packages/bioprov/data/genomes/GATTACA_count.txt.\n"
     ]
    }
   ],
   "source": [
    "sample.files[f'{kmer}_count'] = bp.File(newfilepath)\n",
    "\n",
    "# which is the same as:\n",
    "sample.add_files(bp.File(newfilepath, tag=f\"{kmer}_count\"))"
   ]
  },
  {
   "cell_type": "markdown",
   "metadata": {},
   "source": [
    "### Running Programs\n",
    "\n",
    "We now have a new **File** with the name of our kmer in the `Sample.files` dictionary.\n",
    "\n",
    "Now, we must create the parameters to be added to the `grep` program. Parameters are strings which are added to the program's command-line. We can just put a string with all of our parameters, but creating them one by one and enclosing them with the `bp.Parameter` class will allow for querying later. Parameters are added to a **Program** with the `Program.add_parameter()` method. We then bind the **Program** to the **Sample** using the `Sample.add_programs()` method. It's important to remember these two methods: `Program.add_parameter()` and `Sample.add_programs()`. They allow BioProv to resolve internal relationships between each class. \n",
    "\n",
    "Finally, we check our command is correct: each `bioprov.Program` instance has a `Program.cmd` attribute which shows the exact command-line which will be run on the UNIX shell."
   ]
  },
  {
   "cell_type": "code",
   "execution_count": 9,
   "metadata": {},
   "outputs": [
    {
     "data": {
      "text/plain": [
       "\"/usr/bin/grep -c 'GATTACA' /Users/vini/anaconda3/envs/bioprov/lib/python3.7/site-packages/bioprov/data/genomes/GCF_000010065.1_ASM1006v1_genomic.fna > /Users/vini/anaconda3/envs/bioprov/lib/python3.7/site-packages/bioprov/data/genomes/GATTACA_count.txt\""
      ]
     },
     "execution_count": 9,
     "metadata": {},
     "output_type": "execute_result"
    }
   ],
   "source": [
    "count = bp.Parameter(\"-c\")\n",
    "kmer_param = bp.Parameter(f\"'{kmer}'\")\n",
    "in_file = bp.Parameter(str(sample.files['assembly']))\n",
    "pipe_out = bp.Parameter(\">\", str(sample.files[f'{kmer}_count']))\n",
    "\n",
    "for param in (count, kmer_param, in_file, pipe_out):\n",
    "    grep.add_parameter(param)\n",
    "    \n",
    "sample.add_programs(grep)\n",
    "    \n",
    "grep.cmd"
   ]
  },
  {
   "cell_type": "markdown",
   "metadata": {},
   "source": [
    "Now we want to run our program. We use the `Program.run()` method. "
   ]
  },
  {
   "cell_type": "code",
   "execution_count": 10,
   "metadata": {},
   "outputs": [
    {
     "name": "stdout",
     "output_type": "stream",
     "text": [
      "Running program 'grep'.\n",
      "Command is:\n",
      "/usr/bin/grep \\ \n",
      "\t-c 'GATTACA' \\ \n",
      "\t/Users/vini/anaconda3/envs/bioprov/lib/python3.7/site-packages/bioprov/data/genomes/GCF_000010065.1_ASM1006v1_genomic.fna > \\ \n",
      "\t/Users/vini/anaconda3/envs/bioprov/lib/python3.7/site-packages/bioprov/data/genomes/GATTACA_count.txt\n"
     ]
    },
    {
     "data": {
      "text/plain": [
       "Run of Program 'grep' with 4 parameter(s).\n",
       "Started at Tue Oct 20 15:55:24 2020.\n",
       "Ended at Tue Oct 20 15:55:25 2020.\n",
       "Status is finished."
      ]
     },
     "execution_count": 10,
     "metadata": {},
     "output_type": "execute_result"
    }
   ],
   "source": [
    "grep.run()"
   ]
  },
  {
   "cell_type": "markdown",
   "metadata": {},
   "source": [
    "When we run a **Program**, we create a new **Run**. The `bioprov.Run` class holds information about a process, such as the start time and end time. Runs are stored in the `Program.runs` attribute:"
   ]
  },
  {
   "cell_type": "code",
   "execution_count": 11,
   "metadata": {},
   "outputs": [
    {
     "data": {
      "text/plain": [
       "{'1': Run of Program 'grep' with 4 parameter(s).\n",
       " Started at Tue Oct 20 15:55:24 2020.\n",
       " Ended at Tue Oct 20 15:55:25 2020.\n",
       " Status is finished.}"
      ]
     },
     "execution_count": 11,
     "metadata": {},
     "output_type": "execute_result"
    }
   ],
   "source": [
    "grep.runs"
   ]
  },
  {
   "cell_type": "code",
   "execution_count": 12,
   "metadata": {},
   "outputs": [
    {
     "data": {
      "text/plain": [
       "{'program': Program 'grep' with 4 parameter(s).,\n",
       " 'cmd': \"/usr/bin/grep -c 'GATTACA' /Users/vini/anaconda3/envs/bioprov/lib/python3.7/site-packages/bioprov/data/genomes/GCF_000010065.1_ASM1006v1_genomic.fna > /Users/vini/anaconda3/envs/bioprov/lib/python3.7/site-packages/bioprov/data/genomes/GATTACA_count.txt\",\n",
       " 'params': OrderedDict([('-c', Parameter with command string '-c '),\n",
       "              (\"'GATTACA'\", Parameter with command string ''GATTACA' '),\n",
       "              ('/Users/vini/anaconda3/envs/bioprov/lib/python3.7/site-packages/bioprov/data/genomes/GCF_000010065.1_ASM1006v1_genomic.fna',\n",
       "               Parameter with command string '/Users/vini/anaconda3/envs/bioprov/lib/python3.7/site-packages/bioprov/data/genomes/GCF_000010065.1_ASM1006v1_genomic.fna '),\n",
       "              ('>',\n",
       "               Parameter with command string '> /Users/vini/anaconda3/envs/bioprov/lib/python3.7/site-packages/bioprov/data/genomes/GATTACA_count.txt')]),\n",
       " 'sample': None,\n",
       " 'process': <subprocess.Popen at 0x7fd993545a90>,\n",
       " 'stdin': None,\n",
       " 'stdout': '',\n",
       " 'stderr': '',\n",
       " '_auto_suppress_stdout': True,\n",
       " 'start_time': 'Tue Oct 20 15:55:24 2020',\n",
       " 'end_time': 'Tue Oct 20 15:55:25 2020',\n",
       " 'duration': '0:00:00.105975',\n",
       " 'started': True,\n",
       " 'finished': True,\n",
       " '_status': 'Finished',\n",
       " 'user': 'vini'}"
      ]
     },
     "execution_count": 12,
     "metadata": {},
     "output_type": "execute_result"
    }
   ],
   "source": [
    "# Each Run has useful attributes such as stdout, stderr and status\n",
    "grep.runs['1'].__dict__"
   ]
  },
  {
   "cell_type": "markdown",
   "metadata": {},
   "source": [
    "### Exporting Projects\n",
    "We now have a simple, yet complete, **BioProv Project**. We have a **Project** with 1 or more associated **Samples**, and 1 or more **Programs** have been **run** on the sample. We can export this **Project** as a JSON file."
   ]
  },
  {
   "cell_type": "code",
   "execution_count": null,
   "metadata": {},
   "outputs": [],
   "source": [
    "project['Synechococcus_elongatus_PCC_6301'].files"
   ]
  },
  {
   "cell_type": "code",
   "execution_count": null,
   "metadata": {},
   "outputs": [],
   "source": [
    "project.to_json(\"./introduction.json\")"
   ]
  },
  {
   "cell_type": "markdown",
   "metadata": {},
   "source": [
    "This project can be easily retrieved with the `bioprov.from_json()` function."
   ]
  },
  {
   "cell_type": "code",
   "execution_count": null,
   "metadata": {},
   "outputs": [],
   "source": [
    "project = bp.from_json(\"./introduction.json\")"
   ]
  },
  {
   "cell_type": "code",
   "execution_count": null,
   "metadata": {},
   "outputs": [],
   "source": [
    "project.to_json(\"introduction_export.json\")"
   ]
  },
  {
   "cell_type": "markdown",
   "metadata": {},
   "source": [
    "This allows us to read and write Projects as JSON files, so we can store and/or query them."
   ]
  },
  {
   "cell_type": "code",
   "execution_count": null,
   "metadata": {},
   "outputs": [],
   "source": [
    "!diff ./introduction.json ./introduction_export.json"
   ]
  },
  {
   "cell_type": "markdown",
   "metadata": {},
   "source": [
    "\n",
    "### What about the provenance?\n",
    "\n",
    "We've learned the basics of BioProv, like the main classes, how to create **Projects**, **Samples**, and **Programs.** However, the point of BioProv is to be able to convert these elements to the W3C-PROV format. You can couple BioProv Projects (or any other BioProv object, for that matter) to W3C-PROV elements, allowing them to be exported as W3C-PROV documents, implemented with the [Prov](https://github.com/trungdong/prov) library. Continue to the <a href=\"./w3c-prov.ipynb\">W3C-PROV tutorial.</a>"
   ]
  }
 ],
 "metadata": {
  "kernelspec": {
   "display_name": "Python [conda env:bioprov]",
   "language": "python",
   "name": "conda-env-bioprov-py"
  },
  "language_info": {
   "codemirror_mode": {
    "name": "ipython",
    "version": 3
   },
   "file_extension": ".py",
   "mimetype": "text/x-python",
   "name": "python",
   "nbconvert_exporter": "python",
   "pygments_lexer": "ipython3",
   "version": "3.7.6"
  }
 },
 "nbformat": 4,
 "nbformat_minor": 4
}
