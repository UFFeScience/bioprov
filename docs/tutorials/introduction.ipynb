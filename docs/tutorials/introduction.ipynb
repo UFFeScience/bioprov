{
 "cells": [
  {
   "cell_type": "markdown",
   "metadata": {},
   "source": [
    "## Welcome to the BioProv tutorial!\n",
    "\n",
    "### Introduction\n",
    "\n",
    "BioProv is a library to record provenance information of bioinformatics workflows. If you work with genomics, you've probably encountered the situation where you have several different files for a number of biological samples, and each file concerns a certain aspect of your data. As you develop your analysis workflow, it is challenging to keep track of the **provenance** of your data: how, when and why each file was created and/or modified. There are many tools to aid in this task, such as version control systems [REF], scientific workflow management systems [REF], or even simply keeping a tidy computational notebook [REF].\n",
    "\n",
    "Although these tools are certainly helpful and we recommend that you employ them [REF], it is not trivial to integrate and share provenance information across different people, research groups and even computing environments. A solution to this has been the development of W3C-PROV [REF], a standard created by the W3C organization to facilitate the exchange of provenance data in the web.\n",
    "\n",
    "The W3C-PROV is composed of a set of 13 documents [REF], of which maybe the most pertinent to us is the W3C-PROV-DM, which describes a data model to represent provenance information. Although this model is widely implemented in a range of domain applications, including scientific workflows [REFs], to the best of our knowledge, there is not yet a software tool specialized in the provenance of biological data structures and bioinformatics workflows. To extract provenance attributes of common file formats and common project organization patterns in bioinformatics, generic provenance extraction systems must be extended or customized, which can be a costly task for both the domain specialist and the developers of said systems. In order to fulfill this gap, we present BioProv, which aims to facilitate the provenance extraction in bioinformatics workflows by providing a Python library which integrates two open source libraries: BioPython [REF] and Prov [REF].\n",
    "\n",
    "### How it works\n",
    "\n",
    "BioProv is **project-based**, where each **Project** contains a number of **Samples** which have associated **Files**. **Files** may also be associated directly with the **Project**, if they contain information about zero or multiple samples. BioProv also stores information about **Programs** used create new and modify existing **Files**. **Programs** may contain **Parameters** which will determine how they will be run. Once a **Program** has been run, information about the process will be stored as a **Run**.\n",
    "\n",
    "Therefore, these are the main classes of the BioProv library:\n",
    "* **Project**\n",
    "* **Sample**\n",
    "* **Files**\n",
    "* **Programs**\n",
    "* **Parameters**\n",
    "* **Runs**\n",
    "\n",
    "See an example on how to run a program with BioProv."
   ]
  },
  {
   "cell_type": "code",
   "execution_count": 1,
   "metadata": {},
   "outputs": [],
   "source": [
    "import bioprov as bp \n",
    "\n",
    "sample = bp.Sample(\"Synechococcus_elongatus_PCC_6301\",\n",
    "                   attributes={\"ncbi_accession\": \"GCF_000010065.1\",\n",
    "                               \"ncbi_database\": \"assembly\"}\n",
    "                  )\n",
    "\n",
    "project = bp.Project(samples=[sample,], tag=\"Synechococcus_genome_analysis\")"
   ]
  },
  {
   "cell_type": "markdown",
   "metadata": {},
   "source": [
    "### Adding Files and Programs\n",
    "\n",
    "Now we have a **Project** containing 1 **Sample**. However, our sample has no associated **Files** nor **Programs**. Let's add a **File** to our **Sample** and run a program on it.\n",
    "\n",
    "BioProv comes with an auxiliary `data` subpackage, which contains some preset data for us to experiment with. The `synechococcus_genome` variable is an instance of `pathlib.PosixPath`, which is used to hold file paths."
   ]
  },
  {
   "cell_type": "code",
   "execution_count": 14,
   "metadata": {},
   "outputs": [
    {
     "name": "stdout",
     "output_type": "stream",
     "text": [
      "Updating file assembly with value /Users/vini/anaconda3/envs/bioprov/lib/python3.7/site-packages/bioprov/data/genomes/GCF_000010065.1_ASM1006v1_genomic.fna.\n"
     ]
    },
    {
     "data": {
      "text/plain": [
       "{'assembly': /Users/vini/anaconda3/envs/bioprov/lib/python3.7/site-packages/bioprov/data/genomes/GCF_000010065.1_ASM1006v1_genomic.fna,\n",
       " 'GATTACA_count': PosixPath('/Users/vini/anaconda3/envs/bioprov/lib/python3.7/site-packages/bioprov/data/genomes/GATTACA_count.txt')}"
      ]
     },
     "execution_count": 14,
     "metadata": {},
     "output_type": "execute_result"
    }
   ],
   "source": [
    "from bioprov.data import synechococcus_genome\n",
    "\n",
    "# We create a File object based on a path or a string representing a path.\n",
    "assembly_file = bp.File(synechococcus_genome, tag=\"assembly\")\n",
    "\n",
    "# We can add this File to our Sample\n",
    "sample.add_files(assembly_file)\n",
    "sample.files"
   ]
  },
  {
   "cell_type": "markdown",
   "metadata": {},
   "source": [
    "Now our instance of `Sample` holds a `File` object. Files can be accessed by the attribute `.files`, which is a dictionary composed of `{file.tag: File instance}`."
   ]
  },
  {
   "cell_type": "markdown",
   "metadata": {},
   "source": [
    "We can now run a **Program** in our **Sample**. The sample's **Files** can be used as **Parameter** to the program. Programs are processed by the UNIX shell. \n",
    "\n",
    "Here we are setting up a program using UNIX's `grep` to count the number of occurrences of the 7-mer 'GATTACA' in our sample. We are going to write the results to a new **File**.\n",
    "\n",
    "To write our program, we start with an instance of the **Program** class and add **Parameters** to it."
   ]
  },
  {
   "cell_type": "code",
   "execution_count": 15,
   "metadata": {},
   "outputs": [
    {
     "name": "stdout",
     "output_type": "stream",
     "text": [
      "Added parameter -c with value '' to program grep\n",
      "Added parameter 'GATTACA' with value '' to program grep\n",
      "Added parameter /Users/vini/anaconda3/envs/bioprov/lib/python3.7/site-packages/bioprov/data/genomes/GCF_000010065.1_ASM1006v1_genomic.fna with value '' to program grep\n",
      "Added parameter > /Users/vini/anaconda3/envs/bioprov/lib/python3.7/site-packages/bioprov/data/genomes/GATTACA_count.txt with value '' to program grep\n"
     ]
    },
    {
     "data": {
      "text/plain": [
       "\"/usr/bin/grep -c 'GATTACA' /Users/vini/anaconda3/envs/bioprov/lib/python3.7/site-packages/bioprov/data/genomes/GCF_000010065.1_ASM1006v1_genomic.fna > /Users/vini/anaconda3/envs/bioprov/lib/python3.7/site-packages/bioprov/data/genomes/GATTACA_count.txt\""
      ]
     },
     "execution_count": 15,
     "metadata": {},
     "output_type": "execute_result"
    }
   ],
   "source": [
    "grep = bp.Program(\"grep\")\n",
    "\n",
    "# Kmer variable and output file.\n",
    "kmer = \"GATTACA\"\n",
    "sample.files['{}_count'.format(kmer)] = sample.files['assembly'].directory.joinpath(\"{}_count.txt\".format(kmer))\n",
    "\n",
    "# Creating Parameters\n",
    "count = bp.Parameter('-c')\n",
    "kmer_param = bp.Parameter(\"'{}'\".format(kmer))\n",
    "in_file = bp.Parameter(str(sample.files['assembly']))\n",
    "pipe_out = bp.Parameter(\"> {}\".format(str(sample.files['{}_count'.format(kmer)])))\n",
    "\n",
    "for param in (count, kmer_param, in_file, pipe_out):\n",
    "    grep.add_parameter(param)\n",
    "    \n",
    "grep.cmd"
   ]
  },
  {
   "cell_type": "markdown",
   "metadata": {},
   "source": [
    "### Running Programs\n",
    "\n",
    "Okay, there's a lot going on in this code block. The first thing is creating the program we are going to run. We then create two variables: the kmer we wish to count and an item in the `sample.files` dictionary with the path to our output file.\n",
    "\n",
    "After that, we create parameters to be added to the `grep` program. Parameters are strings which are added to the program's command-line. We can just put a string with all of our parameters, but creating them one by one and enclosing them with the `bp.Parameter` class will allow for querying later. Parameters are then added with the `Program.add_parameter()` method.\n",
    "\n",
    "Finally, we check our command is correct: each `bioprov.Program` instance has a `Program.cmd` attribute which shows the exact command-line which will be run on the UNIX shell.\n",
    "\n",
    "Now we want to run our program. We use the `Program.run()` method. "
   ]
  },
  {
   "cell_type": "code",
   "execution_count": 18,
   "metadata": {},
   "outputs": [
    {
     "name": "stdout",
     "output_type": "stream",
     "text": [
      "Running program 'grep'.\n",
      "Command is:\n",
      "/usr/bin/grep -c 'GATTACA' /Users/vini/anaconda3/envs/bioprov/lib/python3.7/site-packages/bioprov/data/genomes/GCF_000010065.1_ASM1006v1_genomic.fna > /Users/vini/anaconda3/envs/bioprov/lib/python3.7/site-packages/bioprov/data/genomes/GATTACA_count.txt\n"
     ]
    },
    {
     "data": {
      "text/plain": [
       "Run of Program 'grep' with 4 parameter(s).\n",
       "Started at Mon Oct 12 12:46:22 2020.\n",
       "Ended at Mon Oct 12 12:46:22 2020.\n",
       "Status is finished."
      ]
     },
     "execution_count": 18,
     "metadata": {},
     "output_type": "execute_result"
    }
   ],
   "source": [
    "grep.run()"
   ]
  },
  {
   "cell_type": "markdown",
   "metadata": {},
   "source": [
    "When we run a **Program**, we create a new **Run**. The `bioprov.Run` class holds information about a process, such as the start time and end time. Runs are stored in the `Program.runs` attribute:"
   ]
  },
  {
   "cell_type": "code",
   "execution_count": 26,
   "metadata": {},
   "outputs": [
    {
     "data": {
      "text/plain": [
       "{'1': Run of Program 'grep' with 4 parameter(s).\n",
       " Started at Mon Oct 12 12:45:59 2020.\n",
       " Ended at Mon Oct 12 12:45:59 2020.\n",
       " Status is finished.,\n",
       " '2': Run of Program 'grep' with 4 parameter(s).\n",
       " Started at Mon Oct 12 12:46:22 2020.\n",
       " Ended at Mon Oct 12 12:46:22 2020.\n",
       " Status is finished.}"
      ]
     },
     "execution_count": 26,
     "metadata": {},
     "output_type": "execute_result"
    }
   ],
   "source": [
    "grep.runs"
   ]
  },
  {
   "cell_type": "code",
   "execution_count": 29,
   "metadata": {},
   "outputs": [
    {
     "data": {
      "text/plain": [
       "{'program': Program 'grep' with 4 parameter(s).,\n",
       " 'params': OrderedDict([('-c', Parameter with command string '-c '),\n",
       "              (\"'GATTACA'\", Parameter with command string ''GATTACA' '),\n",
       "              ('/Users/vini/anaconda3/envs/bioprov/lib/python3.7/site-packages/bioprov/data/genomes/GCF_000010065.1_ASM1006v1_genomic.fna',\n",
       "               Parameter with command string '/Users/vini/anaconda3/envs/bioprov/lib/python3.7/site-packages/bioprov/data/genomes/GCF_000010065.1_ASM1006v1_genomic.fna '),\n",
       "              ('> /Users/vini/anaconda3/envs/bioprov/lib/python3.7/site-packages/bioprov/data/genomes/GATTACA_count.txt',\n",
       "               Parameter with command string '> /Users/vini/anaconda3/envs/bioprov/lib/python3.7/site-packages/bioprov/data/genomes/GATTACA_count.txt ')]),\n",
       " 'sample': Sample Synechococcus_elongatus_PCC_6301 with 2 file(s).,\n",
       " 'cmd': \"/usr/bin/grep -c 'GATTACA' /Users/vini/anaconda3/envs/bioprov/lib/python3.7/site-packages/bioprov/data/genomes/GCF_000010065.1_ASM1006v1_genomic.fna > /Users/vini/anaconda3/envs/bioprov/lib/python3.7/site-packages/bioprov/data/genomes/GATTACA_count.txt\",\n",
       " 'process': <subprocess.Popen at 0x7fcfd6d51910>,\n",
       " 'stdin': None,\n",
       " 'stdout': b'',\n",
       " 'stderr': b'',\n",
       " '_auto_suppress_stdout': True,\n",
       " 'start_time': 'Mon Oct 12 12:45:59 2020',\n",
       " 'end_time': 'Mon Oct 12 12:45:59 2020',\n",
       " 'duration': '0:00:00.114718',\n",
       " 'started': True,\n",
       " 'finished': True,\n",
       " '_status': 'Finished'}"
      ]
     },
     "execution_count": 29,
     "metadata": {},
     "output_type": "execute_result"
    }
   ],
   "source": [
    "# Each Run has useful attributes such as stdout, stderr and status\n",
    "grep.runs['1'].__dict__"
   ]
  }
 ],
 "metadata": {
  "kernelspec": {
   "display_name": "Python [conda env:bioprov]",
   "language": "python",
   "name": "conda-env-bioprov-py"
  },
  "language_info": {
   "codemirror_mode": {
    "name": "ipython",
    "version": 3
   },
   "file_extension": ".py",
   "mimetype": "text/x-python",
   "name": "python",
   "nbconvert_exporter": "python",
   "pygments_lexer": "ipython3",
   "version": "3.7.6"
  }
 },
 "nbformat": 4,
 "nbformat_minor": 4
}
