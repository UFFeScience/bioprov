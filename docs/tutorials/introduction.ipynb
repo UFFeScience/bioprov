{
 "cells": [
  {
   "cell_type": "markdown",
   "metadata": {},
   "source": [
    "## Welcome to the BioProv tutorials!\n",
    "\n",
    "### Tutorial index\n",
    "* <a href=\"./introduction.ipynb\">Introduction to BioProv</a>\n",
    "* <a href=\"./w3c-prov.ipynb\">W3C-PROV projects</a>\n",
    "\n",
    "## Introduction to BioProv\n",
    "\n",
    "BioProv is a library to record provenance information of bioinformatics workflows. If you work with genomics, you've probably encountered the situation where you have several different files for a number of biological samples, and each file concerns a certain aspect of your data. As you develop your analysis workflow, it is challenging to keep track of the **provenance** of your data: how, when and why each file was created and/or modified. There are many tools to aid in this task, such as [version control](https://journals.plos.org/ploscompbiol/article?id=10.1371/journal.pcbi.1004668), [scientific workflow management systems](https://www.researchgate.net/profile/Jonathan_Mercier/publication/331422146_Evaluating_Workflow_Management_Systems_A_Bioinformatics_Use_Case/links/5d961df9299bf1c363f577b4/Evaluating-Workflow-Management-Systems-A-Bioinformatics-Use-Case.pdf), or even simply keeping a [tidy computational notebook](https://journals.plos.org/ploscompbiol/article?id=10.1371/journal.pcbi.1004385).\n",
    "\n",
    "Although these practices are certainly helpful and [we recommend that you employ them](http://journals.plos.org/ploscompbiol/article?id=10.1371/journal.pcbi.1005510), it is not trivial to integrate and share provenance information across different people, research groups and even computing environments. A solution to this has been the development of [W3C-PROV](https://www.w3.org/TR/prov-overview/), a standard created by the W3C organization to facilitate the exchange of provenance data in the web.\n",
    "\n",
    "The W3C-PROV is composed of a set of [13 documents](https://www.w3.org/TR/prov-overview/), of which maybe the most pertinent to us is the [W3C-PROV-DM](https://www.w3.org/TR/2013/REC-prov-dm-20130430/), which describes a data model to represent provenance information. Although this model is widely implemented in a range of domain applications, including to [scientific workflows](http://www.vldb.org/pvldb/vol11/p2082-sousa.pdf), to the best of our knowledge, there is not yet a software tool specialized in the provenance of biological data structures and bioinformatics workflows. To extract provenance attributes of common file formats and common project organization patterns in bioinformatics, generic provenance extraction systems must be extended or customized, which can be a costly task for both the domain specialist and the developers of said systems. In order to fulfill this gap, we present BioProv, which aims to facilitate the provenance extraction in bioinformatics workflows by providing a Python library which integrates two open source libraries: [BioPython](https://academic.oup.com/bioinformatics/article/25/11/1422/330687) and [Prov](https://prov.readthedocs.io/en/latest/).\n",
    "\n",
    "### How it works\n",
    "\n",
    "BioProv is **project-based**, where each **Project** contains a number of **Samples** which have associated **Files**. **Files** may also be associated directly with the **Project**, if they contain information about zero or multiple samples. BioProv also stores information about **Programs** used create new and modify existing **Files**. **Programs** may contain **Parameters** which will determine how they will be run. Once a **Program** has been run, information about the process will be stored as a **Run**.\n",
    "\n",
    "Therefore, these are the main classes of the BioProv library:\n",
    "* **Project**\n",
    "* **Sample**\n",
    "* **Files**\n",
    "* **Programs**\n",
    "* **Parameters**\n",
    "* **Runs**\n",
    "\n",
    "See an example on how to run a program with BioProv."
   ]
  },
  {
   "cell_type": "code",
   "execution_count": null,
   "metadata": {},
   "outputs": [],
   "source": [
    "import bioprov as bp \n",
    "\n",
    "sample = bp.Sample(\"Synechococcus_elongatus_PCC_6301\",\n",
    "                   attributes={\"ncbi_accession\": \"GCF_000010065.1\",\n",
    "                               \"ncbi_database\": \"assembly\"}\n",
    "                  )\n",
    "\n",
    "project = bp.Project(samples=[sample,], tag=\"introduction\")"
   ]
  },
  {
   "cell_type": "markdown",
   "metadata": {},
   "source": [
    "### Adding Files and Programs\n",
    "\n",
    "Now we have a **Project** containing 1 **Sample**. However, our sample has no associated **Files** nor **Programs**. Let's add a **File** to our **Sample** and run a program on it.\n",
    "\n",
    "BioProv comes with an auxiliary `data` subpackage, which contains some preset data for us to experiment with. The `synechococcus_genome` variable is an instance of `pathlib.PosixPath`, which is used to hold file paths."
   ]
  },
  {
   "cell_type": "code",
   "execution_count": null,
   "metadata": {},
   "outputs": [],
   "source": [
    "from bioprov.data import synechococcus_genome\n",
    "\n",
    "# We create a File object based on a path or a string representing a path.\n",
    "assembly_file = bp.File(synechococcus_genome, tag=\"assembly\")\n",
    "\n",
    "# We can add this File to our Sample\n",
    "sample.add_files(assembly_file)\n",
    "sample.files"
   ]
  },
  {
   "cell_type": "markdown",
   "metadata": {},
   "source": [
    "Now our instance of `Sample` holds a `File` object. Files can be accessed by the attribute `.files`, which is a dictionary composed of `{file.tag: File instance}`."
   ]
  },
  {
   "cell_type": "markdown",
   "metadata": {},
   "source": [
    "We can now run a **Program** in our **Sample**. The sample's **Files** can be used as **Parameter** to the program. Programs are processed by the UNIX shell. \n",
    "\n",
    "Here we are setting up a program using UNIX's `grep` to count the occurrences of a particular kmer in our sample. We are then going to write the results to a new **File**.\n",
    "\n",
    "To write our program, we start with an instance of the **Program** class and add **Parameters** to it."
   ]
  },
  {
   "cell_type": "code",
   "execution_count": null,
   "metadata": {},
   "outputs": [],
   "source": [
    "grep = bp.Program(\"grep\")\n",
    "\n",
    "kmer = \"GATTACA\"\n",
    "sample.files[f'{kmer}_count'] = bp.File(sample.files['assembly'].directory.joinpath(f\"{kmer}_count.txt\"))\n",
    "\n",
    "count = bp.Parameter('-c')\n",
    "kmer_param = bp.Parameter(f\"'{kmer}'\")\n",
    "in_file = bp.Parameter(str(sample.files['assembly']))\n",
    "pipe_out = bp.Parameter(f\"> {str(sample.files[f'{kmer}_count'])}\")\n",
    "\n",
    "for param in (count, kmer_param, in_file, pipe_out):\n",
    "    grep.add_parameter(param)\n",
    "    \n",
    "sample.add_programs(grep)\n",
    "    \n",
    "grep.cmd"
   ]
  },
  {
   "cell_type": "markdown",
   "metadata": {},
   "source": [
    "### Running Programs\n",
    "\n",
    "Okay, there's a lot going on in this last code block. The first thing is creating the program we are going to run. We then create two variables: the kmer we wish to count and an item in the `sample.files` dictionary with a `bioprov.File` with the path we want. To build this file path, we use the `directory` attribute of the `'assembly'` file. This is a PosixPath object from the `pathlib` module, so it can be used for severeal operations.\n",
    "\n",
    "After that, we create parameters to be added to the `grep` program. Parameters are strings which are added to the program's command-line. We can just put a string with all of our parameters, but creating them one by one and enclosing them with the `bp.Parameter` class will allow for querying later. Parameters are then added with the `Program.add_parameter()` method. We then bind the **Program** to the **Sample** using the `Sample.add_programs()` method. It's important to remember these two methods: `Program.add_parameter()` and `Sample.add_programs()`. They allow BioProv to resolve internal relationships between each class. \n",
    "\n",
    "Finally, we check our command is correct: each `bioprov.Program` instance has a `Program.cmd` attribute which shows the exact command-line which will be run on the UNIX shell.\n",
    "\n",
    "Now we want to run our program. We use the `Program.run()` method. "
   ]
  },
  {
   "cell_type": "code",
   "execution_count": null,
   "metadata": {},
   "outputs": [],
   "source": [
    "grep.run()"
   ]
  },
  {
   "cell_type": "markdown",
   "metadata": {},
   "source": [
    "When we run a **Program**, we create a new **Run**. The `bioprov.Run` class holds information about a process, such as the start time and end time. Runs are stored in the `Program.runs` attribute:"
   ]
  },
  {
   "cell_type": "code",
   "execution_count": null,
   "metadata": {},
   "outputs": [],
   "source": [
    "grep.runs"
   ]
  },
  {
   "cell_type": "code",
   "execution_count": null,
   "metadata": {},
   "outputs": [],
   "source": [
    "# Each Run has useful attributes such as stdout, stderr and status\n",
    "grep.runs['1'].__dict__"
   ]
  },
  {
   "cell_type": "markdown",
   "metadata": {},
   "source": [
    "### Exporting Projects\n",
    "We now have a simple, yet complete, **BioProv Project**. We have a **Project** with 1 or more associated **Samples**, and 1 or more **Programs** have been **run** on the sample. We can export this **Project** as a JSON file."
   ]
  },
  {
   "cell_type": "code",
   "execution_count": null,
   "metadata": {},
   "outputs": [],
   "source": [
    "project['Synechococcus_elongatus_PCC_6301'].files"
   ]
  },
  {
   "cell_type": "code",
   "execution_count": null,
   "metadata": {},
   "outputs": [],
   "source": [
    "project.to_json()"
   ]
  },
  {
   "cell_type": "markdown",
   "metadata": {},
   "source": [
    "This project can be easily retrieved with the `bioprov.from_json()` function."
   ]
  },
  {
   "cell_type": "code",
   "execution_count": null,
   "metadata": {},
   "outputs": [],
   "source": [
    "project = bp.from_json(\"./introduction.json\")"
   ]
  },
  {
   "cell_type": "markdown",
   "metadata": {},
   "source": [
    "This allows us to read and write Projects as JSON files, so we can store and/or query them."
   ]
  },
  {
   "cell_type": "markdown",
   "metadata": {},
   "source": [
    "\n",
    "### What about the provenance?\n",
    "\n",
    "We've learned the basics of BioProv, like the main classes, how to create **Projects**, **Samples**, and **Programs.** However, the point of BioProv is to be able to convert these elements to the W3C-PROV format. You can couple BioProv Projects (or any other BioProv object, for that matter) to W3C-PROV elements, allowing them to be exported as W3C-PROV documents, implemented with the [Prov](https://github.com/trungdong/prov) library. Continue to the <a href=\"./w3c-prov.ipynb\">W3C-PROV tutorial.</a>"
   ]
  }
 ],
 "metadata": {
  "kernelspec": {
   "display_name": "Python [conda env:bioprov]",
   "language": "python",
   "name": "conda-env-bioprov-py"
  },
  "language_info": {
   "codemirror_mode": {
    "name": "ipython",
    "version": 3
   },
   "file_extension": ".py",
   "mimetype": "text/x-python",
   "name": "python",
   "nbconvert_exporter": "python",
   "pygments_lexer": "ipython3",
   "version": "3.7.6"
  }
 },
 "nbformat": 4,
 "nbformat_minor": 4
}
